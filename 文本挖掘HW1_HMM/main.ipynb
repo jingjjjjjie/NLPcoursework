{
 "cells": [
  {
   "cell_type": "code",
   "execution_count": 1,
   "metadata": {},
   "outputs": [],
   "source": [
    "import numpy as np\n",
    "import tqdm as tqdm"
   ]
  },
  {
   "cell_type": "code",
   "execution_count": 2,
   "metadata": {},
   "outputs": [],
   "source": [
    "corpus = [\n",
    "\"今天 天气 真 不错 。\", \n",
    "\"麻辣肥牛 好吃 ！\" ,\n",
    "\"我 喜欢 吃 好吃 的 ！\",\n",
    "]\n",
    "\n",
    "corpusBMSE = []"
   ]
  },
  {
   "cell_type": "code",
   "execution_count": 3,
   "metadata": {},
   "outputs": [],
   "source": [
    "def BMSEconvert(token):\n",
    "    if len(token) == 1:\n",
    "        return \"S\"\n",
    "    else:\n",
    "        return \"B\" +  \"M\" * (len(token) - 2)  + \"E\"\n",
    "\n",
    "def corpus2BMSE(corpus):\n",
    "    for sentence in corpus:\n",
    "        word = sentence.split(\" \")\n",
    "        temp = \"\"\n",
    "        for token in word:\n",
    "            temp += BMSEconvert(token) + \" \"\n",
    "        corpusBMSE.append(temp)"
   ]
  },
  {
   "cell_type": "code",
   "execution_count": 4,
   "metadata": {},
   "outputs": [
    {
     "data": {
      "text/plain": [
       "['BE BE S BE S ', 'BMME BE S ', 'S BE S BE S S ']"
      ]
     },
     "execution_count": 4,
     "metadata": {},
     "output_type": "execute_result"
    }
   ],
   "source": [
    "corpus2BMSE(corpus)    \n",
    "corpusBMSE"
   ]
  },
  {
   "cell_type": "code",
   "execution_count": 5,
   "metadata": {},
   "outputs": [],
   "source": [
    "class HMM:\n",
    "    def __init__(self,corpusBMSE=corpusBMSE,corpus=corpus):\n",
    "        self.corpusBMSE = corpusBMSE\n",
    "        self.corpus = corpus\n",
    "        self.init_matrix = np.zeros(4)\n",
    "        self.transfer_matrix = np.zeros((4, 4))\n",
    "        self.emit_matrix = {\"B\":{\"total\":0}, \"M\":{\"total\":0}, \"S\":{\"total\":0}, \"E\":{\"total\":0}}\n",
    "        self.states_to_index = {\"B\":0, \"M\":1, \"E\":2, \"S\":3}\n",
    "\n",
    "    def build_init_matrix(self,state):\n",
    "        add2 = self.states_to_index[state[0]]\n",
    "        self.init_matrix[add2] += 1\n",
    "\n",
    "    def build_transfer_matrix(self,states):\n",
    "        states = \"\".join(states)\n",
    "        print(states)\n",
    "        st1 = states[:-1]\n",
    "        st2 = states[1:]\n",
    "        for head,tail in zip(st1,st2):\n",
    "            head = self.states_to_index[head]\n",
    "            tail = self.states_to_index[tail]\n",
    "            self.transfer_matrix[head,tail] +=1 \n",
    "\n",
    "    def build_emit_matrix(self,states,sentence):\n",
    "        states = \"\".join(states)\n",
    "        sentence = \"\".join(sentence)\n",
    "        for i in range(len(sentence)):\n",
    "            BMSE = states[i]\n",
    "            self.emit_matrix[BMSE][\"total\"] += 1\n",
    "            if sentence[i] in self.emit_matrix[BMSE].keys():\n",
    "                self.emit_matrix[BMSE][sentence[i]] +=1\n",
    "            else:\n",
    "                self.emit_matrix[BMSE][sentence[i]] = 1\n",
    "        \n",
    "    def normalize(self):\n",
    "        self.init_matrix = self.init_matrix / np.sum(self.init_matrix)\n",
    "        self.transfer_matrix = self.transfer_matrix / self.transfer_matrix.sum(axis=1, keepdims=True)\n",
    "        for state in self.emit_matrix:\n",
    "            for char in self.emit_matrix[state]:\n",
    "                if char != 'total':\n",
    "                    self.emit_matrix[state][char] /= self.emit_matrix[state][\"total\"]\n",
    "\n",
    "        \n",
    "        \n",
    "    def train(self):\n",
    "        for states, sentence in zip(self.corpusBMSE, self.corpus):\n",
    "            states = states.split(\" \")\n",
    "            sentence = sentence.split(\" \")\n",
    "            self.build_init_matrix(states[0])\n",
    "            self.build_transfer_matrix(states)\n",
    "            self.build_emit_matrix(states,sentence)\n",
    "        \n",
    "        self.normalize()\n"
   ]
  },
  {
   "cell_type": "code",
   "execution_count": 6,
   "metadata": {},
   "outputs": [
    {
     "name": "stdout",
     "output_type": "stream",
     "text": [
      "BEBESBES\n",
      "BMMEBES\n",
      "SBESBESS\n",
      "[0.66666667 0.         0.         0.33333333]\n",
      "[[0.    0.143 0.857 0.   ]\n",
      " [0.    0.5   0.5   0.   ]\n",
      " [0.286 0.    0.    0.714]\n",
      " [0.75  0.    0.    0.25 ]]\n",
      "{'B': {'total': 7, '今': 0.14285714285714285, '天': 0.14285714285714285, '不': 0.14285714285714285, '麻': 0.14285714285714285, '好': 0.2857142857142857, '喜': 0.14285714285714285}, 'M': {'total': 2, '辣': 0.5, '肥': 0.5}, 'S': {'total': 7, '真': 0.14285714285714285, '。': 0.14285714285714285, '！': 0.2857142857142857, '我': 0.14285714285714285, '吃': 0.14285714285714285, '的': 0.14285714285714285}, 'E': {'total': 7, '天': 0.14285714285714285, '气': 0.14285714285714285, '错': 0.14285714285714285, '牛': 0.14285714285714285, '吃': 0.2857142857142857, '欢': 0.14285714285714285}}\n"
     ]
    }
   ],
   "source": [
    "hmm = HMM()\n",
    "hmm.train()\n",
    "print(hmm.init_matrix)\n",
    "rounded_transfer_matrix = np.round(hmm.transfer_matrix, 3)\n",
    "print(rounded_transfer_matrix)\n",
    "print(hmm.emit_matrix)"
   ]
  },
  {
   "cell_type": "code",
   "execution_count": 9,
   "metadata": {},
   "outputs": [],
   "source": [
    "def Viterbi(hmm, laplace, sentence):\n",
    "    states = hmm.states_to_index\n",
    "    emit_matrix = hmm.emit_matrix\n",
    "    transfer_matrix = hmm.transfer_matrix\n",
    "    init_matrix = hmm.init_matrix\n",
    "\n",
    "    sentence_length = len(sentence)  \n",
    "    num_states = len(states)  \n",
    "    dp = np.zeros((num_states, sentence_length)) \n",
    "    prev_state = np.zeros((num_states, sentence_length), dtype=int)  \n",
    "\n",
    "    for state, index in states.items():\n",
    "        if sentence[0] in emit_matrix[state]:\n",
    "            dp[index, 0] = init_matrix[index] * emit_matrix[state][sentence[0]]\n",
    "        else:\n",
    "            dp[index, 0] = laplace\n",
    "    \n",
    "    # 动态规划填充 dp 和 prev_state 矩阵\n",
    "    for t in range(1, sentence_length):\n",
    "        for state, index in states.items():  # 遍历当前时刻所有可能的状态\n",
    "            max_prob = -1\n",
    "            max_state = -1\n",
    "            for previous_state in range(num_states):  # 遍历前一个时刻的所有状态，寻找最大概率的路径\n",
    "                emit_prob = emit_matrix[state].get(sentence[t], laplace)  # 获取当前状态发射该字符的概率\n",
    "                prob = dp[previous_state, t-1] * transfer_matrix[previous_state, index] * emit_prob  # 计算总概率\n",
    "                if prob > max_prob:\n",
    "                    max_prob = prob\n",
    "                    max_state = previous_state  # 记录当前时刻的最优前驱状态\n",
    "            dp[index, t] = max_prob  # 记录最大概率到 dp 矩阵\n",
    "            prev_state[index, t] = max_state  # 记录最优前驱状态到 prev_state 矩阵\n",
    "\n",
    "    # 回溯步骤，寻找最优路径\n",
    "    best_path = []\n",
    "    last_state_index = np.argmax(dp[:, sentence_length-1])  # 找到最后一步的最大概率状态\n",
    "    best_path.append(last_state_index)\n",
    "\n",
    "    # 根据 prev_state 矩阵进行回溯，找到整个最优路径\n",
    "    for t in range(sentence_length-1, 0, -1):\n",
    "        last_state_index = prev_state[last_state_index, t]  # 回溯到前驱状态\n",
    "        best_path.append(last_state_index)\n",
    "\n",
    "    best_path.reverse()  # 反转路径，因为回溯是从最后一个时刻开始的\n",
    "\n",
    "    # 将状态索引转换回状态名称\n",
    "    index_to_states = {index: state for state, index in states.items()}  # 索引到状态的映射\n",
    "    best_path_states = [index_to_states[index] for index in best_path]  # 将索引转换为状态名称\n",
    "\n",
    "    return ''.join(best_path_states)"
   ]
  },
  {
   "cell_type": "code",
   "execution_count": 10,
   "metadata": {},
   "outputs": [
    {
     "name": "stdout",
     "output_type": "stream",
     "text": [
      "BEBESBES\n"
     ]
    }
   ],
   "source": [
    "ans = Viterbi(hmm,'今天天气真不错。')\n",
    "print(ans)"
   ]
  },
  {
   "cell_type": "code",
   "execution_count": null,
   "metadata": {},
   "outputs": [],
   "source": []
  },
  {
   "cell_type": "code",
   "execution_count": null,
   "metadata": {},
   "outputs": [],
   "source": []
  }
 ],
 "metadata": {
  "kernelspec": {
   "display_name": "nlp38",
   "language": "python",
   "name": "python3"
  },
  "language_info": {
   "codemirror_mode": {
    "name": "ipython",
    "version": 3
   },
   "file_extension": ".py",
   "mimetype": "text/x-python",
   "name": "python",
   "nbconvert_exporter": "python",
   "pygments_lexer": "ipython3",
   "version": "3.8.19"
  }
 },
 "nbformat": 4,
 "nbformat_minor": 2
}
